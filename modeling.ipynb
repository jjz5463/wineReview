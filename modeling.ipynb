{
 "cells": [
  {
   "cell_type": "code",
   "execution_count": 1,
   "id": "95d924c6",
   "metadata": {},
   "outputs": [],
   "source": [
    "# loading package\n",
    "import pandas as pd\n",
    "import numpy as np"
   ]
  },
  {
   "cell_type": "markdown",
   "id": "b299bfe3",
   "metadata": {},
   "source": [
    "# read in data"
   ]
  },
  {
   "cell_type": "code",
   "execution_count": 207,
   "id": "9737c1ae",
   "metadata": {},
   "outputs": [
    {
     "name": "stdout",
     "output_type": "stream",
     "text": [
      "Training Feature Size:  (45644, 811)\n",
      "Testing Feature Size:   (11412, 811)\n",
      "Training Labels Size:   (45644, 1)\n",
      "Testing Labels Size:    (11412, 1)\n",
      "Real Testing Size:      (14266, 811)\n"
     ]
    }
   ],
   "source": [
    "# Read in data into dataframes \n",
    "test = pd.read_csv('processed_data/test.csv')\n",
    "X = pd.read_csv('processed_data/X.csv')\n",
    "X_test = pd.read_csv('processed_data/X_test.csv')\n",
    "y = pd.read_csv('processed_data/y.csv')\n",
    "y_test = pd.read_csv('processed_data/y_test.csv')\n",
    "\n",
    "# Display sizes of data\n",
    "print('Training Feature Size: ', X.shape)\n",
    "print('Testing Feature Size:  ', X_test.shape)\n",
    "print('Training Labels Size:  ', y.shape)\n",
    "print('Testing Labels Size:   ', y_test.shape)\n",
    "print('Real Testing Size:     ', test.shape)"
   ]
  },
  {
   "cell_type": "markdown",
   "id": "b2c78859",
   "metadata": {},
   "source": [
    "# random forest"
   ]
  },
  {
   "cell_type": "code",
   "execution_count": 3,
   "id": "b32faffc",
   "metadata": {},
   "outputs": [
    {
     "data": {
      "text/plain": [
       "RandomForestClassifier()"
      ]
     },
     "execution_count": 3,
     "metadata": {},
     "output_type": "execute_result"
    }
   ],
   "source": [
    "from sklearn.ensemble import RandomForestClassifier\n",
    "rfc = RandomForestClassifier()\n",
    "\n",
    "rfc.fit(X, y.values.ravel())"
   ]
  },
  {
   "cell_type": "code",
   "execution_count": 4,
   "id": "6729fe46",
   "metadata": {},
   "outputs": [
    {
     "data": {
      "text/plain": [
       "0.8397301086575535"
      ]
     },
     "execution_count": 4,
     "metadata": {},
     "output_type": "execute_result"
    }
   ],
   "source": [
    "from sklearn.metrics import accuracy_score\n",
    "\n",
    "model_pred = rfc.predict(X_test)\n",
    "accuracy_score(y_test, model_pred)"
   ]
  },
  {
   "cell_type": "markdown",
   "id": "b429b96e",
   "metadata": {},
   "source": [
    "# random forest 2"
   ]
  },
  {
   "cell_type": "code",
   "execution_count": 193,
   "id": "745ddde6",
   "metadata": {},
   "outputs": [],
   "source": [
    "from sklearn.pipeline import make_pipeline\n",
    "from sklearn.preprocessing import MinMaxScaler\n",
    "from sklearn.ensemble import RandomForestClassifier"
   ]
  },
  {
   "cell_type": "code",
   "execution_count": 194,
   "id": "b3d05cb5",
   "metadata": {},
   "outputs": [
    {
     "name": "stdout",
     "output_type": "stream",
     "text": [
      "{'memory': None, 'steps': [('minmaxscaler', MinMaxScaler()), ('randomforestclassifier', RandomForestClassifier())], 'verbose': False, 'minmaxscaler': MinMaxScaler(), 'randomforestclassifier': RandomForestClassifier(), 'minmaxscaler__clip': False, 'minmaxscaler__copy': True, 'minmaxscaler__feature_range': (0, 1), 'randomforestclassifier__bootstrap': True, 'randomforestclassifier__ccp_alpha': 0.0, 'randomforestclassifier__class_weight': None, 'randomforestclassifier__criterion': 'gini', 'randomforestclassifier__max_depth': None, 'randomforestclassifier__max_features': 'auto', 'randomforestclassifier__max_leaf_nodes': None, 'randomforestclassifier__max_samples': None, 'randomforestclassifier__min_impurity_decrease': 0.0, 'randomforestclassifier__min_impurity_split': None, 'randomforestclassifier__min_samples_leaf': 1, 'randomforestclassifier__min_samples_split': 2, 'randomforestclassifier__min_weight_fraction_leaf': 0.0, 'randomforestclassifier__n_estimators': 100, 'randomforestclassifier__n_jobs': None, 'randomforestclassifier__oob_score': False, 'randomforestclassifier__random_state': None, 'randomforestclassifier__verbose': 0, 'randomforestclassifier__warm_start': False}\n"
     ]
    }
   ],
   "source": [
    "pipeline = make_pipeline(MinMaxScaler(),\n",
    "                         RandomForestClassifier())\n",
    "\n",
    "print(pipeline.get_params())"
   ]
  },
  {
   "cell_type": "code",
   "execution_count": 195,
   "id": "de5a1ec2",
   "metadata": {},
   "outputs": [],
   "source": [
    "hyperparameters = { 'randomforestclassifier__n_estimators' : [50, 100, 300, 500, 1000],\n",
    "                    'randomforestclassifier__max_features' : ['auto', 'sqrt', 'log2'],\n",
    "                   'randomforestclassifier__max_depth': [None, 5, 50, 70, 100, 200, 500, 1000]}"
   ]
  },
  {
   "cell_type": "code",
   "execution_count": null,
   "id": "036e485d",
   "metadata": {},
   "outputs": [],
   "source": [
    "from sklearn.model_selection import GridSearchCV\n",
    "\n",
    "clf2 = GridSearchCV(pipeline,param_grid=hyperparameters, cv=10)\n",
    "\n",
    "clf2.fit(X, y.values.ravel())"
   ]
  },
  {
   "cell_type": "code",
   "execution_count": null,
   "id": "39708438",
   "metadata": {},
   "outputs": [],
   "source": [
    "print(clf2.best_params_)"
   ]
  },
  {
   "cell_type": "code",
   "execution_count": null,
   "id": "04fa985a",
   "metadata": {},
   "outputs": [],
   "source": [
    "print(clf2.refit)"
   ]
  },
  {
   "cell_type": "code",
   "execution_count": null,
   "id": "b0180462",
   "metadata": {},
   "outputs": [],
   "source": [
    "from sklearn.metrics import accuracy_score\n",
    "\n",
    "model_pred = clf2.predict(X_test)\n",
    "accuracy_score(y_test, model_pred)"
   ]
  },
  {
   "cell_type": "markdown",
   "id": "5a2c71dc",
   "metadata": {},
   "source": [
    "# random forest 3"
   ]
  },
  {
   "cell_type": "code",
   "execution_count": 331,
   "id": "d0cae8a9",
   "metadata": {},
   "outputs": [
    {
     "name": "stderr",
     "output_type": "stream",
     "text": [
      "[Parallel(n_jobs=-1)]: Using backend ThreadingBackend with 16 concurrent workers.\n",
      "[Parallel(n_jobs=-1)]: Done  18 tasks      | elapsed:    2.2s\n",
      "[Parallel(n_jobs=-1)]: Done 168 tasks      | elapsed:   11.9s\n",
      "[Parallel(n_jobs=-1)]: Done 200 out of 200 | elapsed:   13.6s finished\n"
     ]
    },
    {
     "data": {
      "text/plain": [
       "RandomForestClassifier(class_weight='balanced_subsample', n_estimators=200,\n",
       "                       n_jobs=-1, verbose=1)"
      ]
     },
     "execution_count": 331,
     "metadata": {},
     "output_type": "execute_result"
    }
   ],
   "source": [
    "from sklearn.ensemble import RandomForestClassifier\n",
    "rfc = RandomForestClassifier(n_estimators = 200,\n",
    "                            criterion = 'gini',\n",
    "                            min_samples_split = 2,\n",
    "                            n_jobs = -1,\n",
    "                            verbose= 1,\n",
    "                            min_samples_leaf = 1,\n",
    "                            class_weight = 'balanced_subsample')\n",
    "\n",
    "rfc.fit(X, y.values.ravel())"
   ]
  },
  {
   "cell_type": "code",
   "execution_count": 332,
   "id": "8b9f5401",
   "metadata": {},
   "outputs": [
    {
     "name": "stderr",
     "output_type": "stream",
     "text": [
      "[Parallel(n_jobs=16)]: Using backend ThreadingBackend with 16 concurrent workers.\n",
      "[Parallel(n_jobs=16)]: Done  18 tasks      | elapsed:    0.0s\n",
      "[Parallel(n_jobs=16)]: Done 168 tasks      | elapsed:    0.2s\n",
      "[Parallel(n_jobs=16)]: Done 200 out of 200 | elapsed:    0.2s finished\n"
     ]
    },
    {
     "data": {
      "text/plain": [
       "0.8412197686645636"
      ]
     },
     "execution_count": 332,
     "metadata": {},
     "output_type": "execute_result"
    }
   ],
   "source": [
    "from sklearn.metrics import accuracy_score\n",
    "\n",
    "model_pred = rfc.predict(X_test)\n",
    "accuracy_score(y_test, model_pred)"
   ]
  },
  {
   "cell_type": "markdown",
   "id": "5e688b64",
   "metadata": {},
   "source": [
    "# XGboost"
   ]
  },
  {
   "cell_type": "code",
   "execution_count": 90,
   "id": "014088d4",
   "metadata": {},
   "outputs": [],
   "source": [
    "import xgboost as xgb\n",
    "\n",
    "param = {\n",
    "    'eta': 0.1, \n",
    "    'max_depth': 40,  \n",
    "    'objective': 'multi:softprob',  \n",
    "    'num_class': 10,\n",
    "    'eval_metric': 'merror'} \n",
    "\n",
    "steps = 20  # The number of training iterations"
   ]
  },
  {
   "cell_type": "code",
   "execution_count": 91,
   "id": "e9f9615d",
   "metadata": {},
   "outputs": [],
   "source": [
    "from sklearn import preprocessing\n",
    "lbl = preprocessing.LabelEncoder()\n",
    "y['class'] = lbl.fit_transform(y['class'].astype(str))\n",
    "y_test['class'] = lbl.fit_transform(y_test['class'].astype(str))\n"
   ]
  },
  {
   "cell_type": "code",
   "execution_count": 92,
   "id": "780e2e14",
   "metadata": {},
   "outputs": [],
   "source": [
    "D_train = xgb.DMatrix(X, label=y)\n",
    "D_test = xgb.DMatrix(X_test, label=y_test)"
   ]
  },
  {
   "cell_type": "code",
   "execution_count": 93,
   "id": "4a089594",
   "metadata": {
    "scrolled": true
   },
   "outputs": [],
   "source": [
    "xgb_model = xgb.train(param, D_train, steps)"
   ]
  },
  {
   "cell_type": "code",
   "execution_count": 94,
   "id": "f36aeddb",
   "metadata": {},
   "outputs": [
    {
     "data": {
      "text/plain": [
       "0.8333333333333334"
      ]
     },
     "execution_count": 94,
     "metadata": {},
     "output_type": "execute_result"
    }
   ],
   "source": [
    "from sklearn.metrics import accuracy_score\n",
    "\n",
    "model_pred = xgb_model.predict(D_test)\n",
    "best_preds = np.asarray([np.argmax(line) for line in model_pred])\n",
    "accuracy_score(y_test, best_preds)"
   ]
  },
  {
   "cell_type": "markdown",
   "id": "b6e49013",
   "metadata": {},
   "source": [
    "# neural"
   ]
  },
  {
   "cell_type": "code",
   "execution_count": 172,
   "id": "5cf50fd6",
   "metadata": {},
   "outputs": [],
   "source": [
    "# multi-class classification with Keras\n",
    "import pandas\n",
    "from keras.models import Sequential\n",
    "from keras.layers import Dense\n",
    "from keras.utils import np_utils\n",
    "from sklearn.model_selection import cross_val_score\n",
    "from sklearn.model_selection import KFold\n",
    "from sklearn.preprocessing import LabelEncoder\n",
    "from sklearn.pipeline import Pipeline\n",
    "\n",
    "from tensorflow import keras\n",
    "\n",
    "from scikeras.wrappers import KerasClassifier"
   ]
  },
  {
   "cell_type": "code",
   "execution_count": 173,
   "id": "a4f9f8f2",
   "metadata": {},
   "outputs": [],
   "source": [
    "X = X.astype(np.float32)\n",
    "#y = y.astype(np.int64)"
   ]
  },
  {
   "cell_type": "code",
   "execution_count": 174,
   "id": "636a4973",
   "metadata": {},
   "outputs": [],
   "source": [
    "def get_model(hidden_layer_dim, meta):\n",
    "    # note that meta is a special argument that will be\n",
    "    # handed a dict containing input metadata\n",
    "    n_features_in_ = meta[\"n_features_in_\"]\n",
    "    X_shape_ = meta[\"X_shape_\"]\n",
    "    n_classes_ = meta[\"n_classes_\"]\n",
    "\n",
    "    model = keras.models.Sequential()\n",
    "    model.add(keras.layers.Dense(n_features_in_, input_shape=X_shape_[1:]))\n",
    "    model.add(keras.layers.Activation(\"relu\"))\n",
    "    model.add(keras.layers.Dense(hidden_layer_dim))\n",
    "    model.add(keras.layers.Activation(\"relu\"))\n",
    "    model.add(keras.layers.Dense(n_classes_))\n",
    "    model.add(keras.layers.Activation(\"softmax\"))\n",
    "    return model\n"
   ]
  },
  {
   "cell_type": "code",
   "execution_count": 178,
   "id": "5bd6a7f5",
   "metadata": {},
   "outputs": [],
   "source": [
    "neural = KerasClassifier(\n",
    "    get_model,\n",
    "    loss=\"categorical_crossentropy\",\n",
    "    hidden_layer_dim=100,\n",
    "    optimizer='adam', \n",
    "    metrics=['accuracy'],\n",
    "    epochs=100, \n",
    "    batch_size=5, \n",
    "    verbose=1,\n",
    "    validation_split=0.1\n",
    ")"
   ]
  },
  {
   "cell_type": "code",
   "execution_count": 179,
   "id": "98a58d58",
   "metadata": {},
   "outputs": [
    {
     "name": "stdout",
     "output_type": "stream",
     "text": [
      "Epoch 1/100\n",
      "8216/8216 [==============================] - 15s 2ms/step - loss: 0.6163 - accuracy: 0.7915 - val_loss: 0.5461 - val_accuracy: 0.8112\n",
      "Epoch 2/100\n",
      "8216/8216 [==============================] - 14s 2ms/step - loss: 0.4425 - accuracy: 0.8464 - val_loss: 0.5211 - val_accuracy: 0.8215\n",
      "Epoch 3/100\n",
      "8216/8216 [==============================] - 14s 2ms/step - loss: 0.3327 - accuracy: 0.8839 - val_loss: 0.5189 - val_accuracy: 0.8329\n",
      "Epoch 4/100\n",
      "8216/8216 [==============================] - 15s 2ms/step - loss: 0.2209 - accuracy: 0.9235 - val_loss: 0.6073 - val_accuracy: 0.8355\n",
      "Epoch 5/100\n",
      "8216/8216 [==============================] - 14s 2ms/step - loss: 0.1211 - accuracy: 0.9585 - val_loss: 0.8133 - val_accuracy: 0.8318\n",
      "Epoch 6/100\n",
      "8216/8216 [==============================] - 14s 2ms/step - loss: 0.0644 - accuracy: 0.9778 - val_loss: 0.9858 - val_accuracy: 0.8263\n",
      "Epoch 7/100\n",
      "8216/8216 [==============================] - 14s 2ms/step - loss: 0.0369 - accuracy: 0.9879 - val_loss: 1.1693 - val_accuracy: 0.8269\n",
      "Epoch 8/100\n",
      "8216/8216 [==============================] - 15s 2ms/step - loss: 0.0294 - accuracy: 0.9907 - val_loss: 1.3562 - val_accuracy: 0.8289\n",
      "Epoch 9/100\n",
      "8216/8216 [==============================] - 15s 2ms/step - loss: 0.0238 - accuracy: 0.9928 - val_loss: 1.4472 - val_accuracy: 0.8210\n",
      "Epoch 10/100\n",
      "8216/8216 [==============================] - 14s 2ms/step - loss: 0.0180 - accuracy: 0.9943 - val_loss: 1.5646 - val_accuracy: 0.8285\n",
      "Epoch 11/100\n",
      "8216/8216 [==============================] - 14s 2ms/step - loss: 0.0166 - accuracy: 0.9945 - val_loss: 1.7048 - val_accuracy: 0.8287\n",
      "Epoch 12/100\n",
      "8216/8216 [==============================] - 15s 2ms/step - loss: 0.0127 - accuracy: 0.9957 - val_loss: 1.8913 - val_accuracy: 0.8208\n",
      "Epoch 13/100\n",
      "8216/8216 [==============================] - 15s 2ms/step - loss: 0.0143 - accuracy: 0.9959 - val_loss: 1.9817 - val_accuracy: 0.8221\n",
      "Epoch 14/100\n",
      "8216/8216 [==============================] - 15s 2ms/step - loss: 0.0147 - accuracy: 0.9954 - val_loss: 2.1700 - val_accuracy: 0.8239\n",
      "Epoch 15/100\n",
      "8216/8216 [==============================] - 14s 2ms/step - loss: 0.0115 - accuracy: 0.9967 - val_loss: 2.1239 - val_accuracy: 0.8274\n",
      "Epoch 16/100\n",
      "8216/8216 [==============================] - 15s 2ms/step - loss: 0.0112 - accuracy: 0.9963 - val_loss: 2.1717 - val_accuracy: 0.8285\n",
      "Epoch 17/100\n",
      "8216/8216 [==============================] - 15s 2ms/step - loss: 0.0115 - accuracy: 0.9968 - val_loss: 2.2209 - val_accuracy: 0.8219\n",
      "Epoch 18/100\n",
      "8216/8216 [==============================] - 15s 2ms/step - loss: 0.0104 - accuracy: 0.9969 - val_loss: 2.3572 - val_accuracy: 0.8245\n",
      "Epoch 19/100\n",
      "8216/8216 [==============================] - 14s 2ms/step - loss: 0.0114 - accuracy: 0.9970 - val_loss: 2.3661 - val_accuracy: 0.8309\n",
      "Epoch 20/100\n",
      "8216/8216 [==============================] - 15s 2ms/step - loss: 0.0075 - accuracy: 0.9978 - val_loss: 2.5683 - val_accuracy: 0.8261\n",
      "Epoch 21/100\n",
      "8216/8216 [==============================] - 15s 2ms/step - loss: 0.0075 - accuracy: 0.9975 - val_loss: 2.7807 - val_accuracy: 0.8291\n",
      "Epoch 22/100\n",
      "8216/8216 [==============================] - 15s 2ms/step - loss: 0.0091 - accuracy: 0.9975 - val_loss: 2.6802 - val_accuracy: 0.8145\n",
      "Epoch 23/100\n",
      "8216/8216 [==============================] - 15s 2ms/step - loss: 0.0079 - accuracy: 0.9981 - val_loss: 2.8666 - val_accuracy: 0.8230\n",
      "Epoch 24/100\n",
      "8216/8216 [==============================] - 14s 2ms/step - loss: 0.0117 - accuracy: 0.9974 - val_loss: 2.8659 - val_accuracy: 0.8217\n",
      "Epoch 25/100\n",
      "8216/8216 [==============================] - 14s 2ms/step - loss: 0.0071 - accuracy: 0.9984 - val_loss: 2.9108 - val_accuracy: 0.8202\n",
      "Epoch 26/100\n",
      "8216/8216 [==============================] - 15s 2ms/step - loss: 0.0055 - accuracy: 0.9981 - val_loss: 2.9604 - val_accuracy: 0.8291\n",
      "Epoch 27/100\n",
      "8216/8216 [==============================] - 14s 2ms/step - loss: 0.0078 - accuracy: 0.9983 - val_loss: 2.9021 - val_accuracy: 0.8322\n",
      "Epoch 28/100\n",
      "8216/8216 [==============================] - 14s 2ms/step - loss: 0.0069 - accuracy: 0.9979 - val_loss: 3.0378 - val_accuracy: 0.8335\n",
      "Epoch 29/100\n",
      "8216/8216 [==============================] - 15s 2ms/step - loss: 0.0088 - accuracy: 0.9981 - val_loss: 3.0975 - val_accuracy: 0.8228\n",
      "Epoch 30/100\n",
      "8216/8216 [==============================] - 15s 2ms/step - loss: 0.0064 - accuracy: 0.9984 - val_loss: 3.0962 - val_accuracy: 0.8280\n",
      "Epoch 31/100\n",
      "8216/8216 [==============================] - 15s 2ms/step - loss: 0.0069 - accuracy: 0.9986 - val_loss: 3.1658 - val_accuracy: 0.8329\n",
      "Epoch 32/100\n",
      "8216/8216 [==============================] - 15s 2ms/step - loss: 0.0064 - accuracy: 0.9985 - val_loss: 3.2455 - val_accuracy: 0.8221\n",
      "Epoch 33/100\n",
      "8216/8216 [==============================] - 15s 2ms/step - loss: 0.0086 - accuracy: 0.9982 - val_loss: 3.2161 - val_accuracy: 0.8283\n",
      "Epoch 34/100\n",
      "8216/8216 [==============================] - 15s 2ms/step - loss: 0.0058 - accuracy: 0.9983 - val_loss: 3.2802 - val_accuracy: 0.8226\n",
      "Epoch 35/100\n",
      "8216/8216 [==============================] - 15s 2ms/step - loss: 0.0058 - accuracy: 0.9987 - val_loss: 3.5892 - val_accuracy: 0.8241\n",
      "Epoch 36/100\n",
      "8216/8216 [==============================] - 15s 2ms/step - loss: 0.0057 - accuracy: 0.9989 - val_loss: 3.8399 - val_accuracy: 0.8256\n",
      "Epoch 37/100\n",
      "8216/8216 [==============================] - 15s 2ms/step - loss: 0.0057 - accuracy: 0.9986 - val_loss: 3.5211 - val_accuracy: 0.8291\n",
      "Epoch 38/100\n",
      "8216/8216 [==============================] - 15s 2ms/step - loss: 0.0036 - accuracy: 0.9993 - val_loss: 3.8424 - val_accuracy: 0.8239\n",
      "Epoch 39/100\n",
      "8216/8216 [==============================] - 15s 2ms/step - loss: 0.0060 - accuracy: 0.9988 - val_loss: 3.7098 - val_accuracy: 0.8283\n",
      "Epoch 40/100\n",
      "8216/8216 [==============================] - 15s 2ms/step - loss: 0.0071 - accuracy: 0.9984 - val_loss: 3.6373 - val_accuracy: 0.8287\n",
      "Epoch 41/100\n",
      "8216/8216 [==============================] - 15s 2ms/step - loss: 0.0056 - accuracy: 0.9985 - val_loss: 3.9675 - val_accuracy: 0.8245\n",
      "Epoch 42/100\n",
      "8216/8216 [==============================] - 15s 2ms/step - loss: 0.0068 - accuracy: 0.9985 - val_loss: 3.8471 - val_accuracy: 0.8285\n",
      "Epoch 43/100\n",
      "8216/8216 [==============================] - 15s 2ms/step - loss: 0.0057 - accuracy: 0.9987 - val_loss: 4.1061 - val_accuracy: 0.8250\n",
      "Epoch 44/100\n",
      "8216/8216 [==============================] - 15s 2ms/step - loss: 0.0060 - accuracy: 0.9988 - val_loss: 4.0416 - val_accuracy: 0.8252\n",
      "Epoch 45/100\n",
      "8216/8216 [==============================] - 15s 2ms/step - loss: 0.0054 - accuracy: 0.9990 - val_loss: 4.1115 - val_accuracy: 0.8241\n",
      "Epoch 46/100\n",
      "8216/8216 [==============================] - 15s 2ms/step - loss: 0.0033 - accuracy: 0.9992 - val_loss: 4.1443 - val_accuracy: 0.8287\n",
      "Epoch 47/100\n",
      "8216/8216 [==============================] - 15s 2ms/step - loss: 0.0064 - accuracy: 0.9985 - val_loss: 4.5531 - val_accuracy: 0.8294\n",
      "Epoch 48/100\n",
      "8216/8216 [==============================] - 15s 2ms/step - loss: 0.0075 - accuracy: 0.9985 - val_loss: 4.6192 - val_accuracy: 0.8250\n",
      "Epoch 49/100\n",
      "8216/8216 [==============================] - 15s 2ms/step - loss: 0.0060 - accuracy: 0.9990 - val_loss: 4.2240 - val_accuracy: 0.8269\n",
      "Epoch 50/100\n",
      "8216/8216 [==============================] - 15s 2ms/step - loss: 0.0070 - accuracy: 0.9986 - val_loss: 4.2261 - val_accuracy: 0.8269\n",
      "Epoch 51/100\n",
      "8216/8216 [==============================] - 14s 2ms/step - loss: 0.0062 - accuracy: 0.9989 - val_loss: 4.3238 - val_accuracy: 0.8267\n",
      "Epoch 52/100\n",
      "8216/8216 [==============================] - 15s 2ms/step - loss: 0.0030 - accuracy: 0.9993 - val_loss: 4.3970 - val_accuracy: 0.8252\n",
      "Epoch 53/100\n",
      "8216/8216 [==============================] - 15s 2ms/step - loss: 0.0039 - accuracy: 0.9993 - val_loss: 4.4593 - val_accuracy: 0.8291\n",
      "Epoch 54/100\n",
      "8216/8216 [==============================] - 15s 2ms/step - loss: 0.0047 - accuracy: 0.9991 - val_loss: 4.3963 - val_accuracy: 0.8208\n",
      "Epoch 55/100\n",
      "8216/8216 [==============================] - 15s 2ms/step - loss: 0.0020 - accuracy: 0.9995 - val_loss: 4.4876 - val_accuracy: 0.8252\n",
      "Epoch 56/100\n",
      "8216/8216 [==============================] - 15s 2ms/step - loss: 0.0020 - accuracy: 0.9995 - val_loss: 4.6280 - val_accuracy: 0.8289\n"
     ]
    },
    {
     "name": "stdout",
     "output_type": "stream",
     "text": [
      "Epoch 57/100\n",
      "8216/8216 [==============================] - 15s 2ms/step - loss: 0.0060 - accuracy: 0.9989 - val_loss: 4.5473 - val_accuracy: 0.8254\n",
      "Epoch 58/100\n",
      "8216/8216 [==============================] - 15s 2ms/step - loss: 0.0046 - accuracy: 0.9991 - val_loss: 4.8163 - val_accuracy: 0.8252\n",
      "Epoch 59/100\n",
      "8216/8216 [==============================] - 14s 2ms/step - loss: 0.0063 - accuracy: 0.9987 - val_loss: 4.7732 - val_accuracy: 0.8243\n",
      "Epoch 60/100\n",
      "8216/8216 [==============================] - 14s 2ms/step - loss: 0.0026 - accuracy: 0.9993 - val_loss: 4.8534 - val_accuracy: 0.8245\n",
      "Epoch 61/100\n",
      "8216/8216 [==============================] - 15s 2ms/step - loss: 0.0044 - accuracy: 0.9992 - val_loss: 4.7938 - val_accuracy: 0.8291\n",
      "Epoch 62/100\n",
      "8216/8216 [==============================] - 15s 2ms/step - loss: 0.0042 - accuracy: 0.9993 - val_loss: 4.9458 - val_accuracy: 0.8239\n",
      "Epoch 63/100\n",
      "8216/8216 [==============================] - 15s 2ms/step - loss: 0.0022 - accuracy: 0.9995 - val_loss: 4.9896 - val_accuracy: 0.8287\n",
      "Epoch 64/100\n",
      "8216/8216 [==============================] - 14s 2ms/step - loss: 0.0046 - accuracy: 0.9991 - val_loss: 5.4513 - val_accuracy: 0.8193\n",
      "Epoch 65/100\n",
      "8216/8216 [==============================] - 15s 2ms/step - loss: 0.0050 - accuracy: 0.9991 - val_loss: 5.1700 - val_accuracy: 0.8254\n",
      "Epoch 66/100\n",
      "8216/8216 [==============================] - 15s 2ms/step - loss: 0.0054 - accuracy: 0.9991 - val_loss: 5.0602 - val_accuracy: 0.8258\n",
      "Epoch 67/100\n",
      "8216/8216 [==============================] - 15s 2ms/step - loss: 0.0040 - accuracy: 0.9991 - val_loss: 5.3328 - val_accuracy: 0.8232\n",
      "Epoch 68/100\n",
      "8216/8216 [==============================] - 15s 2ms/step - loss: 0.0031 - accuracy: 0.9993 - val_loss: 5.3000 - val_accuracy: 0.8258\n",
      "Epoch 69/100\n",
      "8216/8216 [==============================] - 16s 2ms/step - loss: 0.0031 - accuracy: 0.9994 - val_loss: 5.4501 - val_accuracy: 0.8278\n",
      "Epoch 70/100\n",
      "8216/8216 [==============================] - 17s 2ms/step - loss: 0.0058 - accuracy: 0.9988 - val_loss: 5.3392 - val_accuracy: 0.8333\n",
      "Epoch 71/100\n",
      "8216/8216 [==============================] - 15s 2ms/step - loss: 0.0077 - accuracy: 0.9988 - val_loss: 5.3620 - val_accuracy: 0.8326\n",
      "Epoch 72/100\n",
      "8216/8216 [==============================] - 15s 2ms/step - loss: 0.0052 - accuracy: 0.9992 - val_loss: 5.1732 - val_accuracy: 0.8206\n",
      "Epoch 73/100\n",
      "8216/8216 [==============================] - 16s 2ms/step - loss: 0.0051 - accuracy: 0.9993 - val_loss: 5.1189 - val_accuracy: 0.8232\n",
      "Epoch 74/100\n",
      "8216/8216 [==============================] - 16s 2ms/step - loss: 0.0037 - accuracy: 0.9994 - val_loss: 5.5799 - val_accuracy: 0.8258\n",
      "Epoch 75/100\n",
      "8216/8216 [==============================] - 16s 2ms/step - loss: 0.0033 - accuracy: 0.9995 - val_loss: 5.5389 - val_accuracy: 0.8204\n",
      "Epoch 76/100\n",
      "8216/8216 [==============================] - 17s 2ms/step - loss: 0.0043 - accuracy: 0.9992 - val_loss: 5.3613 - val_accuracy: 0.8318\n",
      "Epoch 77/100\n",
      "8216/8216 [==============================] - 15s 2ms/step - loss: 0.0043 - accuracy: 0.9993 - val_loss: 5.5103 - val_accuracy: 0.8355\n",
      "Epoch 78/100\n",
      "8216/8216 [==============================] - 15s 2ms/step - loss: 0.0040 - accuracy: 0.9993 - val_loss: 5.6220 - val_accuracy: 0.8342\n",
      "Epoch 79/100\n",
      "8216/8216 [==============================] - 15s 2ms/step - loss: 0.0035 - accuracy: 0.9994 - val_loss: 5.4873 - val_accuracy: 0.8322\n",
      "Epoch 80/100\n",
      "8216/8216 [==============================] - 15s 2ms/step - loss: 0.0042 - accuracy: 0.9992 - val_loss: 5.7086 - val_accuracy: 0.8311\n",
      "Epoch 81/100\n",
      "8216/8216 [==============================] - 15s 2ms/step - loss: 0.0051 - accuracy: 0.9990 - val_loss: 5.7428 - val_accuracy: 0.8320\n",
      "Epoch 82/100\n",
      "8216/8216 [==============================] - 15s 2ms/step - loss: 0.0041 - accuracy: 0.9994 - val_loss: 5.6386 - val_accuracy: 0.8311\n",
      "Epoch 83/100\n",
      "8216/8216 [==============================] - 15s 2ms/step - loss: 0.0019 - accuracy: 0.9996 - val_loss: 5.9867 - val_accuracy: 0.8300\n",
      "Epoch 84/100\n",
      "8216/8216 [==============================] - 15s 2ms/step - loss: 0.0048 - accuracy: 0.9992 - val_loss: 5.7931 - val_accuracy: 0.8320\n",
      "Epoch 85/100\n",
      "8216/8216 [==============================] - 15s 2ms/step - loss: 0.0033 - accuracy: 0.9992 - val_loss: 5.7263 - val_accuracy: 0.8302\n",
      "Epoch 86/100\n",
      "8216/8216 [==============================] - 15s 2ms/step - loss: 0.0034 - accuracy: 0.9995 - val_loss: 5.6891 - val_accuracy: 0.8280\n",
      "Epoch 87/100\n",
      "8216/8216 [==============================] - 15s 2ms/step - loss: 0.0024 - accuracy: 0.9996 - val_loss: 5.8593 - val_accuracy: 0.8283\n",
      "Epoch 88/100\n",
      "8216/8216 [==============================] - 15s 2ms/step - loss: 0.0016 - accuracy: 0.9996 - val_loss: 6.4470 - val_accuracy: 0.8313\n",
      "Epoch 89/100\n",
      "8216/8216 [==============================] - 15s 2ms/step - loss: 0.0025 - accuracy: 0.9995 - val_loss: 6.1427 - val_accuracy: 0.8289\n",
      "Epoch 90/100\n",
      "8216/8216 [==============================] - 15s 2ms/step - loss: 0.0048 - accuracy: 0.9992 - val_loss: 6.1873 - val_accuracy: 0.8298\n",
      "Epoch 91/100\n",
      "8216/8216 [==============================] - 16s 2ms/step - loss: 0.0050 - accuracy: 0.9994 - val_loss: 6.0997 - val_accuracy: 0.8265\n",
      "Epoch 92/100\n",
      "8216/8216 [==============================] - 15s 2ms/step - loss: 0.0025 - accuracy: 0.9995 - val_loss: 6.2854 - val_accuracy: 0.8239\n",
      "Epoch 93/100\n",
      "8216/8216 [==============================] - 15s 2ms/step - loss: 0.0055 - accuracy: 0.9992 - val_loss: 6.0909 - val_accuracy: 0.8285\n",
      "Epoch 94/100\n",
      "8216/8216 [==============================] - 16s 2ms/step - loss: 0.0012 - accuracy: 0.9998 - val_loss: 6.2800 - val_accuracy: 0.8254\n",
      "Epoch 95/100\n",
      "8216/8216 [==============================] - 15s 2ms/step - loss: 0.0018 - accuracy: 0.9995 - val_loss: 6.3144 - val_accuracy: 0.8313\n",
      "Epoch 96/100\n",
      "8216/8216 [==============================] - 15s 2ms/step - loss: 0.0014 - accuracy: 0.9997 - val_loss: 6.5616 - val_accuracy: 0.8245\n",
      "Epoch 97/100\n",
      "8216/8216 [==============================] - 15s 2ms/step - loss: 0.0062 - accuracy: 0.9994 - val_loss: 6.2847 - val_accuracy: 0.8289\n",
      "Epoch 98/100\n",
      "8216/8216 [==============================] - 15s 2ms/step - loss: 0.0020 - accuracy: 0.9995 - val_loss: 6.6197 - val_accuracy: 0.8320\n",
      "Epoch 99/100\n",
      "8216/8216 [==============================] - 15s 2ms/step - loss: 0.0025 - accuracy: 0.9996 - val_loss: 6.5676 - val_accuracy: 0.8311\n",
      "Epoch 100/100\n",
      "8216/8216 [==============================] - 16s 2ms/step - loss: 0.0031 - accuracy: 0.9995 - val_loss: 6.5221 - val_accuracy: 0.8265\n"
     ]
    },
    {
     "data": {
      "text/plain": [
       "KerasClassifier(\n",
       "\tmodel=<function get_model at 0x7f98eef12dc0>\n",
       "\tbuild_fn=None\n",
       "\twarm_start=False\n",
       "\trandom_state=None\n",
       "\toptimizer=adam\n",
       "\tloss=categorical_crossentropy\n",
       "\tmetrics=['accuracy']\n",
       "\tbatch_size=5\n",
       "\tvalidation_batch_size=None\n",
       "\tverbose=1\n",
       "\tcallbacks=None\n",
       "\tvalidation_split=0.1\n",
       "\tshuffle=True\n",
       "\trun_eagerly=False\n",
       "\tepochs=100\n",
       "\thidden_layer_dim=100\n",
       "\tclass_weight=None\n",
       ")"
      ]
     },
     "execution_count": 179,
     "metadata": {},
     "output_type": "execute_result"
    }
   ],
   "source": [
    "neural.fit(X, y)"
   ]
  },
  {
   "cell_type": "code",
   "execution_count": 180,
   "id": "5189494a",
   "metadata": {},
   "outputs": [],
   "source": [
    "X_test = X_test.astype(np.float32)\n",
    "#y_test = y_test.astype(np.int64)"
   ]
  },
  {
   "cell_type": "code",
   "execution_count": 181,
   "id": "8fc62a89",
   "metadata": {},
   "outputs": [
    {
     "name": "stdout",
     "output_type": "stream",
     "text": [
      "2283/2283 [==============================] - 1s 633us/step\n"
     ]
    },
    {
     "data": {
      "text/plain": [
       "0.8307045215562566"
      ]
     },
     "execution_count": 181,
     "metadata": {},
     "output_type": "execute_result"
    }
   ],
   "source": [
    "from sklearn.metrics import accuracy_score\n",
    "\n",
    "model_pred = neural.predict(X_test)\n",
    "accuracy_score(y_test, model_pred)"
   ]
  },
  {
   "cell_type": "markdown",
   "id": "646f4e81",
   "metadata": {},
   "source": [
    "# navie Bayes"
   ]
  },
  {
   "cell_type": "code",
   "execution_count": 31,
   "id": "65980fcc",
   "metadata": {},
   "outputs": [
    {
     "data": {
      "text/plain": [
       "MultinomialNB()"
      ]
     },
     "execution_count": 31,
     "metadata": {},
     "output_type": "execute_result"
    }
   ],
   "source": [
    "from sklearn.naive_bayes import MultinomialNB\n",
    "\n",
    "navie = MultinomialNB(alpha=1.0)#default value of 1.0\n",
    "\n",
    "navie.fit(X, y.values.ravel())"
   ]
  },
  {
   "cell_type": "code",
   "execution_count": 32,
   "id": "ad8a7e82",
   "metadata": {},
   "outputs": [
    {
     "data": {
      "text/plain": [
       "0.7129337539432177"
      ]
     },
     "execution_count": 32,
     "metadata": {},
     "output_type": "execute_result"
    }
   ],
   "source": [
    "from sklearn.metrics import accuracy_score\n",
    "\n",
    "model_pred = navie.predict(X_test)\n",
    "accuracy_score(y_test, model_pred)"
   ]
  },
  {
   "cell_type": "markdown",
   "id": "4dcedac1",
   "metadata": {},
   "source": [
    "# MLPClassifier"
   ]
  },
  {
   "cell_type": "code",
   "execution_count": 16,
   "id": "0264ed02",
   "metadata": {},
   "outputs": [
    {
     "data": {
      "text/plain": [
       "MLPClassifier(alpha=1e-06, hidden_layer_sizes=(500, 200), random_state=1)"
      ]
     },
     "execution_count": 16,
     "metadata": {},
     "output_type": "execute_result"
    }
   ],
   "source": [
    "from sklearn.neural_network import MLPClassifier\n",
    "\n",
    "neural = MLPClassifier(solver='adam', alpha=1e-6,\n",
    "                    hidden_layer_sizes=(500, 200), random_state=1)\n",
    "\n",
    "neural.fit(X, y.values.ravel())"
   ]
  },
  {
   "cell_type": "code",
   "execution_count": 18,
   "id": "9e29683d",
   "metadata": {},
   "outputs": [
    {
     "data": {
      "text/plain": [
       "0.8415702769015072"
      ]
     },
     "execution_count": 18,
     "metadata": {},
     "output_type": "execute_result"
    }
   ],
   "source": [
    "from sklearn.metrics import accuracy_score\n",
    "\n",
    "model_pred = neural.predict(X_test)\n",
    "accuracy_score(y_test, model_pred)"
   ]
  },
  {
   "cell_type": "markdown",
   "id": "6dbccdc1",
   "metadata": {},
   "source": [
    "# k neighbors"
   ]
  },
  {
   "cell_type": "code",
   "execution_count": 216,
   "id": "a34f3a15",
   "metadata": {},
   "outputs": [
    {
     "data": {
      "text/plain": [
       "KNeighborsClassifier(n_neighbors=30)"
      ]
     },
     "execution_count": 216,
     "metadata": {},
     "output_type": "execute_result"
    }
   ],
   "source": [
    "from sklearn.neighbors import KNeighborsClassifier\n",
    "\n",
    "k = KNeighborsClassifier(n_neighbors=30)\n",
    "\n",
    "k.fit(X, y.values.ravel())"
   ]
  },
  {
   "cell_type": "code",
   "execution_count": 217,
   "id": "03e9e8e6",
   "metadata": {},
   "outputs": [
    {
     "data": {
      "text/plain": [
       "0.7169645986680687"
      ]
     },
     "execution_count": 217,
     "metadata": {},
     "output_type": "execute_result"
    }
   ],
   "source": [
    "from sklearn.metrics import accuracy_score\n",
    "\n",
    "model_pred = k.predict(X_test)\n",
    "accuracy_score(y_test, model_pred)"
   ]
  },
  {
   "cell_type": "markdown",
   "id": "4fccf9c6",
   "metadata": {},
   "source": [
    "# logistic regression"
   ]
  },
  {
   "cell_type": "code",
   "execution_count": 219,
   "id": "d6248753",
   "metadata": {},
   "outputs": [
    {
     "data": {
      "text/plain": [
       "LogisticRegression(max_iter=1000, random_state=0)"
      ]
     },
     "execution_count": 219,
     "metadata": {},
     "output_type": "execute_result"
    }
   ],
   "source": [
    "from sklearn.linear_model import LogisticRegression\n",
    "\n",
    "log = LogisticRegression(random_state=0,solver='lbfgs', max_iter=1000)\n",
    "\n",
    "log.fit(X, y.values.ravel())"
   ]
  },
  {
   "cell_type": "code",
   "execution_count": 220,
   "id": "c7624f8c",
   "metadata": {},
   "outputs": [
    {
     "data": {
      "text/plain": [
       "0.8310550297932001"
      ]
     },
     "execution_count": 220,
     "metadata": {},
     "output_type": "execute_result"
    }
   ],
   "source": [
    "from sklearn.metrics import accuracy_score\n",
    "\n",
    "model_pred = log.predict(X_test)\n",
    "accuracy_score(y_test, model_pred)"
   ]
  },
  {
   "cell_type": "markdown",
   "id": "f650ec19",
   "metadata": {},
   "source": [
    "# logistic CV"
   ]
  },
  {
   "cell_type": "code",
   "execution_count": 229,
   "id": "5e1e254c",
   "metadata": {},
   "outputs": [
    {
     "name": "stderr",
     "output_type": "stream",
     "text": [
      "[Parallel(n_jobs=-1)]: Using backend LokyBackend with 16 concurrent workers.\n",
      "[Parallel(n_jobs=-1)]: Done  10 out of  10 | elapsed: 265.9min finished\n"
     ]
    },
    {
     "data": {
      "text/plain": [
       "LogisticRegressionCV(cv=10, max_iter=1000, n_jobs=-1, random_state=0,\n",
       "                     verbose=True)"
      ]
     },
     "execution_count": 229,
     "metadata": {},
     "output_type": "execute_result"
    }
   ],
   "source": [
    "# Train Logistic Regression Model\n",
    "from sklearn.linear_model import LogisticRegressionCV\n",
    "\n",
    "##choose model hyperparams\n",
    "logCV = LogisticRegressionCV(cv=10,\n",
    "                             random_state=0,\n",
    "                             solver='lbfgs', \n",
    "                             max_iter=1000,\n",
    "                            verbose = True,\n",
    "                            n_jobs = -1)\n",
    "\n",
    "logCV.fit(X, y.values.ravel())"
   ]
  },
  {
   "cell_type": "code",
   "execution_count": 230,
   "id": "ce94c914",
   "metadata": {},
   "outputs": [
    {
     "data": {
      "text/plain": [
       "0.832807570977918"
      ]
     },
     "execution_count": 230,
     "metadata": {},
     "output_type": "execute_result"
    }
   ],
   "source": [
    "from sklearn.metrics import accuracy_score\n",
    "\n",
    "model_pred = logCV.predict(X_test)\n",
    "accuracy_score(y_test, model_pred)"
   ]
  },
  {
   "cell_type": "markdown",
   "id": "ad9dc52a",
   "metadata": {},
   "source": [
    "# Gradient Boosting "
   ]
  },
  {
   "cell_type": "code",
   "execution_count": 191,
   "id": "9f3bf8b3",
   "metadata": {},
   "outputs": [
    {
     "name": "stdout",
     "output_type": "stream",
     "text": [
      "      Iter       Train Loss   Remaining Time \n",
      "         1           1.4246            6.67m\n",
      "         2           1.8312            6.59m\n",
      "         3        2269.5261            6.53m\n",
      "         4 27333551648544310066937856.0000            6.48m\n",
      "         5 27333580240851755201462272.0000            6.42m\n",
      "         6 33576182642863598135672832.0000            6.35m\n",
      "         7 33576182642863598135672832.0000            6.27m\n",
      "         8 33576182642878441542647808.0000            6.20m\n",
      "         9 33576182642878441542647808.0000            6.14m\n",
      "        10 33576182642878441542647808.0000            6.07m\n",
      "        20 36652091169572429297090560.0000            5.39m\n",
      "        30 54055747243785713912656361969339554880379053604157198743749700994763081926454606150868934498181907305887926550077112320.0000            4.71m\n",
      "        40 54055747243785713912656361969339554880379053604157198743749700994763081926454606150868934498181907305887926550077112320.0000            4.04m\n",
      "        50 54055747243785713912656361969339554880379053604157198743749700994763081926454606150868934498181907305887926550077112320.0000            3.36m\n",
      "        60 54055747243785713912656361969339554880379053604157198743749700994763081926454606150868934498181907305887926550077112320.0000            2.69m\n",
      "        70 54055747243785713912656361969339554880379053604157198743749700994763081926454606150868934498181907305887926550077112320.0000            2.02m\n",
      "        80 54055747243785713912656361969339554880379053604157198743749700994763081926454606150868934498181907305887926550077112320.0000            1.34m\n",
      "        90 54055747243785713912656361969339554880379053604157198743749700994763081926454606150868934498181907305887926550077112320.0000           40.32s\n",
      "       100 54055747243785713912656361969339554880379053604157198743749700994763081926454606150868934498181907305887926550077112320.0000            0.00s\n"
     ]
    },
    {
     "data": {
      "text/plain": [
       "GradientBoostingClassifier(learning_rate=1, max_depth=2, random_state=60,\n",
       "                           verbose=1)"
      ]
     },
     "execution_count": 191,
     "metadata": {},
     "output_type": "execute_result"
    }
   ],
   "source": [
    "from sklearn.ensemble import GradientBoostingClassifier\n",
    "\n",
    "graboost = GradientBoostingClassifier(n_estimators=100,\n",
    "                                      learning_rate=1, \n",
    "                                      max_depth=2, \n",
    "                                      random_state=60,\n",
    "                                     verbose=1)\n",
    "\n",
    "graboost.fit(X, y.values.ravel())"
   ]
  },
  {
   "cell_type": "code",
   "execution_count": 192,
   "id": "23e60571",
   "metadata": {},
   "outputs": [
    {
     "data": {
      "text/plain": [
       "0.6714861549246407"
      ]
     },
     "execution_count": 192,
     "metadata": {},
     "output_type": "execute_result"
    }
   ],
   "source": [
    "from sklearn.metrics import accuracy_score\n",
    "\n",
    "model_pred = graboost.predict(X_test)\n",
    "accuracy_score(y_test, model_pred)"
   ]
  },
  {
   "cell_type": "markdown",
   "id": "ab646dc1",
   "metadata": {},
   "source": [
    "# svm poly"
   ]
  },
  {
   "cell_type": "code",
   "execution_count": 3,
   "id": "3043626c",
   "metadata": {},
   "outputs": [
    {
     "name": "stdout",
     "output_type": "stream",
     "text": [
      "[LibSVM]"
     ]
    },
    {
     "data": {
      "text/plain": [
       "SVC(degree=8, kernel='poly', verbose=True)"
      ]
     },
     "execution_count": 3,
     "metadata": {},
     "output_type": "execute_result"
    }
   ],
   "source": [
    "from sklearn.svm import SVC\n",
    "svm_poly = SVC(kernel='poly', degree=8,verbose=True)\n",
    "svm_poly.fit(X, y.values.ravel())"
   ]
  },
  {
   "cell_type": "code",
   "execution_count": 5,
   "id": "d8c9cbc6",
   "metadata": {},
   "outputs": [
    {
     "data": {
      "text/plain": [
       "0.5932351910269892"
      ]
     },
     "execution_count": 5,
     "metadata": {},
     "output_type": "execute_result"
    }
   ],
   "source": [
    "from sklearn.metrics import accuracy_score\n",
    "model_pred = svm_poly.predict(X_test)\n",
    "accuracy_score(y_test, model_pred)"
   ]
  },
  {
   "cell_type": "markdown",
   "id": "45631862",
   "metadata": {},
   "source": [
    "# Bagged Decision Tree"
   ]
  },
  {
   "cell_type": "code",
   "execution_count": 12,
   "id": "7afe869a",
   "metadata": {},
   "outputs": [
    {
     "data": {
      "text/plain": [
       "BaggingClassifier(base_estimator=DecisionTreeClassifier(min_samples_leaf=3),\n",
       "                  max_samples=100, n_estimators=50, random_state=0)"
      ]
     },
     "execution_count": 12,
     "metadata": {},
     "output_type": "execute_result"
    }
   ],
   "source": [
    "from sklearn.tree import DecisionTreeClassifier, export_graphviz\n",
    "from sklearn.ensemble import BaggingClassifier\n",
    "\n",
    "bdt = BaggingClassifier(base_estimator=DecisionTreeClassifier(min_samples_leaf=3),\n",
    "                           n_estimators=50, max_samples=100, bootstrap=True, random_state=0)\n",
    "\n",
    "bdt.fit(X, y.values.ravel())"
   ]
  },
  {
   "cell_type": "code",
   "execution_count": 13,
   "id": "664472fc",
   "metadata": {},
   "outputs": [
    {
     "data": {
      "text/plain": [
       "0.6158429723098493"
      ]
     },
     "execution_count": 13,
     "metadata": {},
     "output_type": "execute_result"
    }
   ],
   "source": [
    "from sklearn.metrics import accuracy_score\n",
    "model_pred = bdt.predict(X_test)\n",
    "accuracy_score(y_test, model_pred)"
   ]
  },
  {
   "cell_type": "markdown",
   "id": "d098bf7a",
   "metadata": {},
   "source": [
    "# AdaBoost"
   ]
  },
  {
   "cell_type": "code",
   "execution_count": 14,
   "id": "80976de7",
   "metadata": {},
   "outputs": [
    {
     "data": {
      "text/plain": [
       "AdaBoostClassifier(base_estimator=DecisionTreeClassifier(max_depth=5),\n",
       "                   learning_rate=1e-05, n_estimators=30, random_state=0)"
      ]
     },
     "execution_count": 14,
     "metadata": {},
     "output_type": "execute_result"
    }
   ],
   "source": [
    "from sklearn.ensemble import AdaBoostClassifier\n",
    "\n",
    "adaboost = AdaBoostClassifier(n_estimators=30, \n",
    "                            base_estimator=DecisionTreeClassifier(max_depth=5), \n",
    "                            learning_rate=1e-5, random_state=0)\n",
    "\n",
    "adaboost.fit(X, y.values.ravel())"
   ]
  },
  {
   "cell_type": "code",
   "execution_count": 15,
   "id": "e468e7ef",
   "metadata": {},
   "outputs": [
    {
     "data": {
      "text/plain": [
       "0.37276550998948477"
      ]
     },
     "execution_count": 15,
     "metadata": {},
     "output_type": "execute_result"
    }
   ],
   "source": [
    "from sklearn.metrics import accuracy_score\n",
    "model_pred = adaboost.predict(X_test)\n",
    "accuracy_score(y_test, model_pred)"
   ]
  },
  {
   "cell_type": "markdown",
   "id": "021c75fd",
   "metadata": {},
   "source": [
    "# catboost"
   ]
  },
  {
   "cell_type": "code",
   "execution_count": null,
   "id": "c05db9c6",
   "metadata": {},
   "outputs": [],
   "source": [
    "from catboost import CatBoostClassifier\n",
    "\n",
    "catboost = CatBoostClassifier(iterations=500,\n",
    "                             learning_rate=0.02,\n",
    "                             depth=12,\n",
    "                             eval_metric='AUC',\n",
    "                             #random_seed = RANDOM_STATE,\n",
    "                             bagging_temperature = 0.2,\n",
    "                             od_type='Iter',\n",
    "                             #metric_period = VERBOSE_EVAL,\n",
    "                             od_wait=100)\n",
    "\n",
    "catboost.fit(X, y.values.ravel())"
   ]
  },
  {
   "cell_type": "code",
   "execution_count": null,
   "id": "f756dd09",
   "metadata": {},
   "outputs": [],
   "source": [
    "from sklearn.metrics import accuracy_score\n",
    "model_pred = catboost.predict(X_test)\n",
    "accuracy_score(y_test, model_pred)"
   ]
  },
  {
   "cell_type": "markdown",
   "id": "59ba6ea3",
   "metadata": {},
   "source": [
    "# prepare submit.csv"
   ]
  },
  {
   "cell_type": "code",
   "execution_count": 325,
   "id": "a30eae64",
   "metadata": {},
   "outputs": [
    {
     "data": {
      "text/html": [
       "<div>\n",
       "<style scoped>\n",
       "    .dataframe tbody tr th:only-of-type {\n",
       "        vertical-align: middle;\n",
       "    }\n",
       "\n",
       "    .dataframe tbody tr th {\n",
       "        vertical-align: top;\n",
       "    }\n",
       "\n",
       "    .dataframe thead th {\n",
       "        text-align: right;\n",
       "    }\n",
       "</style>\n",
       "<table border=\"1\" class=\"dataframe\">\n",
       "  <thead>\n",
       "    <tr style=\"text-align: right;\">\n",
       "      <th></th>\n",
       "      <th>id</th>\n",
       "      <th>variety</th>\n",
       "    </tr>\n",
       "  </thead>\n",
       "  <tbody>\n",
       "    <tr>\n",
       "      <th>0</th>\n",
       "      <td>57056</td>\n",
       "      <td>Syrah</td>\n",
       "    </tr>\n",
       "    <tr>\n",
       "      <th>1</th>\n",
       "      <td>57057</td>\n",
       "      <td>Bordeaux-style Red Blend</td>\n",
       "    </tr>\n",
       "    <tr>\n",
       "      <th>2</th>\n",
       "      <td>57058</td>\n",
       "      <td>Cabernet Sauvignon</td>\n",
       "    </tr>\n",
       "    <tr>\n",
       "      <th>3</th>\n",
       "      <td>57059</td>\n",
       "      <td>Cabernet Sauvignon</td>\n",
       "    </tr>\n",
       "    <tr>\n",
       "      <th>4</th>\n",
       "      <td>57060</td>\n",
       "      <td>Rosé</td>\n",
       "    </tr>\n",
       "    <tr>\n",
       "      <th>...</th>\n",
       "      <td>...</td>\n",
       "      <td>...</td>\n",
       "    </tr>\n",
       "    <tr>\n",
       "      <th>14261</th>\n",
       "      <td>71317</td>\n",
       "      <td>Bordeaux-style Red Blend</td>\n",
       "    </tr>\n",
       "    <tr>\n",
       "      <th>14262</th>\n",
       "      <td>71318</td>\n",
       "      <td>Sauvignon Blanc</td>\n",
       "    </tr>\n",
       "    <tr>\n",
       "      <th>14263</th>\n",
       "      <td>71319</td>\n",
       "      <td>Syrah</td>\n",
       "    </tr>\n",
       "    <tr>\n",
       "      <th>14264</th>\n",
       "      <td>71320</td>\n",
       "      <td>Chardonnay</td>\n",
       "    </tr>\n",
       "    <tr>\n",
       "      <th>14265</th>\n",
       "      <td>71321</td>\n",
       "      <td>Syrah</td>\n",
       "    </tr>\n",
       "  </tbody>\n",
       "</table>\n",
       "<p>14266 rows × 2 columns</p>\n",
       "</div>"
      ],
      "text/plain": [
       "          id                   variety\n",
       "0      57056                     Syrah\n",
       "1      57057  Bordeaux-style Red Blend\n",
       "2      57058        Cabernet Sauvignon\n",
       "3      57059        Cabernet Sauvignon\n",
       "4      57060                      Rosé\n",
       "...      ...                       ...\n",
       "14261  71317  Bordeaux-style Red Blend\n",
       "14262  71318           Sauvignon Blanc\n",
       "14263  71319                     Syrah\n",
       "14264  71320                Chardonnay\n",
       "14265  71321                     Syrah\n",
       "\n",
       "[14266 rows x 2 columns]"
      ]
     },
     "execution_count": 325,
     "metadata": {},
     "output_type": "execute_result"
    }
   ],
   "source": [
    "# read in sample sub\n",
    "sample = pd.read_csv('./raw_data/sample.csv')\n",
    "sample"
   ]
  },
  {
   "cell_type": "code",
   "execution_count": 326,
   "id": "bfbf5783",
   "metadata": {},
   "outputs": [],
   "source": [
    "# predict in test data set\n",
    "ID = sample[['id']]"
   ]
  },
  {
   "cell_type": "code",
   "execution_count": 327,
   "id": "59c26498",
   "metadata": {},
   "outputs": [
    {
     "name": "stderr",
     "output_type": "stream",
     "text": [
      "[Parallel(n_jobs=16)]: Using backend ThreadingBackend with 16 concurrent workers.\n",
      "[Parallel(n_jobs=16)]: Done  18 tasks      | elapsed:    0.0s\n",
      "[Parallel(n_jobs=16)]: Done 168 tasks      | elapsed:    0.2s\n",
      "[Parallel(n_jobs=16)]: Done 300 out of 300 | elapsed:    0.4s finished\n"
     ]
    }
   ],
   "source": [
    "# choose which model to use and get prediction\n",
    "#test = test.astype(np.float32)\n",
    "Y_predicted = rfc.predict(test)"
   ]
  },
  {
   "cell_type": "code",
   "execution_count": 328,
   "id": "8db513ac",
   "metadata": {},
   "outputs": [
    {
     "data": {
      "text/html": [
       "<div>\n",
       "<style scoped>\n",
       "    .dataframe tbody tr th:only-of-type {\n",
       "        vertical-align: middle;\n",
       "    }\n",
       "\n",
       "    .dataframe tbody tr th {\n",
       "        vertical-align: top;\n",
       "    }\n",
       "\n",
       "    .dataframe thead th {\n",
       "        text-align: right;\n",
       "    }\n",
       "</style>\n",
       "<table border=\"1\" class=\"dataframe\">\n",
       "  <thead>\n",
       "    <tr style=\"text-align: right;\">\n",
       "      <th></th>\n",
       "      <th>variety</th>\n",
       "    </tr>\n",
       "  </thead>\n",
       "  <tbody>\n",
       "    <tr>\n",
       "      <th>0</th>\n",
       "      <td>Pinot Noir</td>\n",
       "    </tr>\n",
       "    <tr>\n",
       "      <th>1</th>\n",
       "      <td>Chardonnay</td>\n",
       "    </tr>\n",
       "    <tr>\n",
       "      <th>2</th>\n",
       "      <td>Merlot</td>\n",
       "    </tr>\n",
       "    <tr>\n",
       "      <th>3</th>\n",
       "      <td>Red Blend</td>\n",
       "    </tr>\n",
       "    <tr>\n",
       "      <th>4</th>\n",
       "      <td>Sauvignon Blanc</td>\n",
       "    </tr>\n",
       "    <tr>\n",
       "      <th>...</th>\n",
       "      <td>...</td>\n",
       "    </tr>\n",
       "    <tr>\n",
       "      <th>14261</th>\n",
       "      <td>Rosé</td>\n",
       "    </tr>\n",
       "    <tr>\n",
       "      <th>14262</th>\n",
       "      <td>Bordeaux-style Red Blend</td>\n",
       "    </tr>\n",
       "    <tr>\n",
       "      <th>14263</th>\n",
       "      <td>Cabernet Sauvignon</td>\n",
       "    </tr>\n",
       "    <tr>\n",
       "      <th>14264</th>\n",
       "      <td>Chardonnay</td>\n",
       "    </tr>\n",
       "    <tr>\n",
       "      <th>14265</th>\n",
       "      <td>Cabernet Sauvignon</td>\n",
       "    </tr>\n",
       "  </tbody>\n",
       "</table>\n",
       "<p>14266 rows × 1 columns</p>\n",
       "</div>"
      ],
      "text/plain": [
       "                        variety\n",
       "0                    Pinot Noir\n",
       "1                    Chardonnay\n",
       "2                        Merlot\n",
       "3                     Red Blend\n",
       "4               Sauvignon Blanc\n",
       "...                         ...\n",
       "14261                      Rosé\n",
       "14262  Bordeaux-style Red Blend\n",
       "14263        Cabernet Sauvignon\n",
       "14264                Chardonnay\n",
       "14265        Cabernet Sauvignon\n",
       "\n",
       "[14266 rows x 1 columns]"
      ]
     },
     "execution_count": 328,
     "metadata": {},
     "output_type": "execute_result"
    }
   ],
   "source": [
    "# transfer prediction to data frame\n",
    "Y_predicted = pd.DataFrame(Y_predicted, columns=['variety'])\n",
    "Y_predicted"
   ]
  },
  {
   "cell_type": "code",
   "execution_count": 329,
   "id": "981dc6db",
   "metadata": {},
   "outputs": [
    {
     "data": {
      "text/html": [
       "<div>\n",
       "<style scoped>\n",
       "    .dataframe tbody tr th:only-of-type {\n",
       "        vertical-align: middle;\n",
       "    }\n",
       "\n",
       "    .dataframe tbody tr th {\n",
       "        vertical-align: top;\n",
       "    }\n",
       "\n",
       "    .dataframe thead th {\n",
       "        text-align: right;\n",
       "    }\n",
       "</style>\n",
       "<table border=\"1\" class=\"dataframe\">\n",
       "  <thead>\n",
       "    <tr style=\"text-align: right;\">\n",
       "      <th></th>\n",
       "      <th>id</th>\n",
       "      <th>variety</th>\n",
       "    </tr>\n",
       "  </thead>\n",
       "  <tbody>\n",
       "    <tr>\n",
       "      <th>0</th>\n",
       "      <td>57056</td>\n",
       "      <td>Pinot Noir</td>\n",
       "    </tr>\n",
       "    <tr>\n",
       "      <th>1</th>\n",
       "      <td>57057</td>\n",
       "      <td>Chardonnay</td>\n",
       "    </tr>\n",
       "    <tr>\n",
       "      <th>2</th>\n",
       "      <td>57058</td>\n",
       "      <td>Merlot</td>\n",
       "    </tr>\n",
       "    <tr>\n",
       "      <th>3</th>\n",
       "      <td>57059</td>\n",
       "      <td>Red Blend</td>\n",
       "    </tr>\n",
       "    <tr>\n",
       "      <th>4</th>\n",
       "      <td>57060</td>\n",
       "      <td>Sauvignon Blanc</td>\n",
       "    </tr>\n",
       "    <tr>\n",
       "      <th>...</th>\n",
       "      <td>...</td>\n",
       "      <td>...</td>\n",
       "    </tr>\n",
       "    <tr>\n",
       "      <th>14261</th>\n",
       "      <td>71317</td>\n",
       "      <td>Rosé</td>\n",
       "    </tr>\n",
       "    <tr>\n",
       "      <th>14262</th>\n",
       "      <td>71318</td>\n",
       "      <td>Bordeaux-style Red Blend</td>\n",
       "    </tr>\n",
       "    <tr>\n",
       "      <th>14263</th>\n",
       "      <td>71319</td>\n",
       "      <td>Cabernet Sauvignon</td>\n",
       "    </tr>\n",
       "    <tr>\n",
       "      <th>14264</th>\n",
       "      <td>71320</td>\n",
       "      <td>Chardonnay</td>\n",
       "    </tr>\n",
       "    <tr>\n",
       "      <th>14265</th>\n",
       "      <td>71321</td>\n",
       "      <td>Cabernet Sauvignon</td>\n",
       "    </tr>\n",
       "  </tbody>\n",
       "</table>\n",
       "<p>14266 rows × 2 columns</p>\n",
       "</div>"
      ],
      "text/plain": [
       "          id                   variety\n",
       "0      57056                Pinot Noir\n",
       "1      57057                Chardonnay\n",
       "2      57058                    Merlot\n",
       "3      57059                 Red Blend\n",
       "4      57060           Sauvignon Blanc\n",
       "...      ...                       ...\n",
       "14261  71317                      Rosé\n",
       "14262  71318  Bordeaux-style Red Blend\n",
       "14263  71319        Cabernet Sauvignon\n",
       "14264  71320                Chardonnay\n",
       "14265  71321        Cabernet Sauvignon\n",
       "\n",
       "[14266 rows x 2 columns]"
      ]
     },
     "execution_count": 329,
     "metadata": {},
     "output_type": "execute_result"
    }
   ],
   "source": [
    "# combine id and prediction together\n",
    "submit = pd.concat([ID,Y_predicted], axis=1, sort=False)\n",
    "submit"
   ]
  },
  {
   "cell_type": "code",
   "execution_count": 330,
   "id": "e0ad3f99",
   "metadata": {},
   "outputs": [],
   "source": [
    "# write the file\n",
    "submit.to_csv(\"./submit.csv\",index=False)"
   ]
  },
  {
   "cell_type": "code",
   "execution_count": null,
   "id": "5b47dc39",
   "metadata": {},
   "outputs": [],
   "source": []
  }
 ],
 "metadata": {
  "kernelspec": {
   "display_name": "Python 3",
   "language": "python",
   "name": "python3"
  },
  "language_info": {
   "codemirror_mode": {
    "name": "ipython",
    "version": 3
   },
   "file_extension": ".py",
   "mimetype": "text/x-python",
   "name": "python",
   "nbconvert_exporter": "python",
   "pygments_lexer": "ipython3",
   "version": "3.8.8"
  }
 },
 "nbformat": 4,
 "nbformat_minor": 5
}
